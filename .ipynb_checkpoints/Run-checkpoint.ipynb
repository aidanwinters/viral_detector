{
 "cells": [
  {
   "cell_type": "markdown",
   "metadata": {},
   "source": [
    "# Viral Detector"
   ]
  },
  {
   "cell_type": "code",
   "execution_count": null,
   "metadata": {},
   "outputs": [],
   "source": [
    "import dinucleotide as dn\n",
    "import blast"
   ]
  },
  {
   "cell_type": "code",
   "execution_count": null,
   "metadata": {},
   "outputs": [],
   "source": [
    "bacteria1 = dn.dinucleotide(sys.argv[1])\n",
    "bacteria1.calculate_local_freqs()\n",
    "# bacteria1.plot_distribution()\n",
    "bacteria1.plot_deltas()\n",
    "bacteria1.plot_deltas_wAnnotation(\"genomes/GCF_000008865.2_ASM886v2_genomic.gff\")\n",
    "\n",
    "\n",
    "#simulate a new sequence\n",
    "fake_seq = bacteria1.simulateSequence()\n",
    "sim_genome = dn.dinucleotide(seq=fake_seq)\n",
    "sim_genome.calculate_local_freqs()\n",
    "\n",
    "dn.dinucleotide.plot_compare_genome(bacteria1, sim_genome)\n",
    "dn.dinucleotide.plot_compare_distribution(bacteria1, sim_genome)\n",
    "\n",
    "#blast section\n",
    "\n",
    "#create fasta for uspect seq\n",
    "suspect = \"suspect.fna\"\n",
    "\n",
    "bacteria1.write_suspect_to_fasta(suspect)\n",
    "\n",
    "query = suspect #this will be the file from dinucleotie program\n",
    "subject = \"./dbs/Actino_DB\" #I hard coded this path so change it to make it work, wilson changed\n",
    "dbt = \"nucl\"\n",
    "outfile = \"practice.out\" #random ass outfile name\n",
    "useblast = blast.Blast(subject,dbt,query,outfile)\n",
    "useblast.makedb()\n",
    "useblast.blast()\n",
    "blast_results = blast.BlastReport(outfile)"
   ]
  }
 ],
 "metadata": {
  "kernelspec": {
   "display_name": "Python 3",
   "language": "python",
   "name": "python3"
  },
  "language_info": {
   "codemirror_mode": {
    "name": "ipython",
    "version": 3
   },
   "file_extension": ".py",
   "mimetype": "text/x-python",
   "name": "python",
   "nbconvert_exporter": "python",
   "pygments_lexer": "ipython3",
   "version": "3.7.4"
  }
 },
 "nbformat": 4,
 "nbformat_minor": 2
}
